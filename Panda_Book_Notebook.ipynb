{
 "metadata": {
  "name": "",
  "signature": "sha256:5d42e94e7796381c1fbee56670d81d7cbfd3a034448f4613a284aadb6150ff0b"
 },
 "nbformat": 3,
 "nbformat_minor": 0,
 "worksheets": [
  {
   "cells": [
    {
     "cell_type": "code",
     "collapsed": false,
     "input": [
      "%matplotlib inline\n",
      "\n",
      "import pandas as pd\n",
      "import numpy as np\n",
      "import os\n",
      "import copy\n",
      "\n",
      "from os.path import join, getsize\n",
      "from datetime import datetime\n",
      "from dateutil.parser import parse\n",
      "from collections import deque\n",
      "\n",
      "# Set some Pandas options\n",
      "pd.set_option('display.notebook_repr_html', False)\n",
      "pd.set_option('display.max_columns', 20)\n",
      "pd.set_option('display.max_rows', 25)"
     ],
     "language": "python",
     "metadata": {},
     "outputs": [],
     "prompt_number": 1
    },
    {
     "cell_type": "heading",
     "level": 1,
     "metadata": {},
     "source": [
      "Chapter 7"
     ]
    },
    {
     "cell_type": "markdown",
     "metadata": {},
     "source": [
      "Concat examples"
     ]
    },
    {
     "cell_type": "code",
     "collapsed": false,
     "input": [
      "s1 = pd.Series([0, 1], index=['a', 'b'])\n",
      "s2 = pd.Series([2, 3, 4], index=['c', 'd', 'e'])\n",
      "s3 = pd.Series([5, 6], index=['f', 'g'])\n",
      "pd.concat([s1, s2, s3], axis =0)"
     ],
     "language": "python",
     "metadata": {},
     "outputs": [
      {
       "metadata": {},
       "output_type": "pyout",
       "prompt_number": 15,
       "text": [
        "a    0\n",
        "b    1\n",
        "c    2\n",
        "d    3\n",
        "e    4\n",
        "f    5\n",
        "g    6\n",
        "dtype: int64"
       ]
      }
     ],
     "prompt_number": 15
    },
    {
     "cell_type": "code",
     "collapsed": false,
     "input": [
      "pd.concat([s1, s2, s3], axis =1, join='outer')"
     ],
     "language": "python",
     "metadata": {},
     "outputs": [
      {
       "metadata": {},
       "output_type": "pyout",
       "prompt_number": 18,
       "text": [
        "Empty DataFrame\n",
        "Columns: [0, 1, 2]\n",
        "Index: []"
       ]
      }
     ],
     "prompt_number": 18
    },
    {
     "cell_type": "code",
     "collapsed": false,
     "input": [
      "s1"
     ],
     "language": "python",
     "metadata": {},
     "outputs": [
      {
       "metadata": {},
       "output_type": "pyout",
       "prompt_number": 11,
       "text": [
        "a    0\n",
        "b    1\n",
        "dtype: int64"
       ]
      }
     ],
     "prompt_number": 11
    },
    {
     "cell_type": "code",
     "collapsed": false,
     "input": [
      "s2"
     ],
     "language": "python",
     "metadata": {},
     "outputs": [
      {
       "metadata": {},
       "output_type": "pyout",
       "prompt_number": 12,
       "text": [
        "c    2\n",
        "d    3\n",
        "e    4\n",
        "dtype: int64"
       ]
      }
     ],
     "prompt_number": 12
    },
    {
     "cell_type": "code",
     "collapsed": false,
     "input": [
      "s3"
     ],
     "language": "python",
     "metadata": {},
     "outputs": [
      {
       "metadata": {},
       "output_type": "pyout",
       "prompt_number": 13,
       "text": [
        "f    5\n",
        "g    6\n",
        "dtype: int64"
       ]
      }
     ],
     "prompt_number": 13
    },
    {
     "cell_type": "code",
     "collapsed": false,
     "input": [
      "s4 = pd.concat([s1 * 5, s3])\n",
      "s4"
     ],
     "language": "python",
     "metadata": {},
     "outputs": [
      {
       "metadata": {},
       "output_type": "pyout",
       "prompt_number": 8,
       "text": [
        "a    0\n",
        "b    5\n",
        "f    5\n",
        "g    6\n",
        "dtype: int64"
       ]
      }
     ],
     "prompt_number": 8
    },
    {
     "cell_type": "code",
     "collapsed": false,
     "input": [
      "pd.concat([s1, s4], axis=1) "
     ],
     "language": "python",
     "metadata": {},
     "outputs": [
      {
       "metadata": {},
       "output_type": "pyout",
       "prompt_number": 9,
       "text": [
        "    0  1\n",
        "a   0  0\n",
        "b   1  5\n",
        "f NaN  5\n",
        "g NaN  6"
       ]
      }
     ],
     "prompt_number": 9
    },
    {
     "cell_type": "code",
     "collapsed": false,
     "input": [
      "pd.concat([s1, s2, s3], axis=1, keys=['one', 'two', 'three'])"
     ],
     "language": "python",
     "metadata": {},
     "outputs": [
      {
       "metadata": {},
       "output_type": "pyout",
       "prompt_number": 19,
       "text": [
        "   one  two  three\n",
        "a    0  NaN    NaN\n",
        "b    1  NaN    NaN\n",
        "c  NaN    2    NaN\n",
        "d  NaN    3    NaN\n",
        "e  NaN    4    NaN\n",
        "f  NaN  NaN      5\n",
        "g  NaN  NaN      6"
       ]
      }
     ],
     "prompt_number": 19
    },
    {
     "cell_type": "code",
     "collapsed": false,
     "input": [
      "df1 = pd.DataFrame(np.arange(6).reshape(3, 2), index=['a', 'b', 'c'],\n",
      "        columns=['one', 'two'])\n",
      "df1"
     ],
     "language": "python",
     "metadata": {},
     "outputs": [
      {
       "metadata": {},
       "output_type": "pyout",
       "prompt_number": 22,
       "text": [
        "   one  two\n",
        "a    0    1\n",
        "b    2    3\n",
        "c    4    5"
       ]
      }
     ],
     "prompt_number": 22
    },
    {
     "cell_type": "code",
     "collapsed": false,
     "input": [
      "df2 = pd.DataFrame(5 + np.arange(4).reshape(2, 2), index=['a', 'c'],\n",
      "        columns=['three', 'four'])\n",
      "df2"
     ],
     "language": "python",
     "metadata": {},
     "outputs": [
      {
       "metadata": {},
       "output_type": "pyout",
       "prompt_number": 24,
       "text": [
        "   three  four\n",
        "a      5     6\n",
        "c      7     8"
       ]
      }
     ],
     "prompt_number": 24
    },
    {
     "cell_type": "code",
     "collapsed": false,
     "input": [
      "pd.concat([df1, df2], axis=1, keys=['level1', 'level2'])"
     ],
     "language": "python",
     "metadata": {},
     "outputs": [
      {
       "metadata": {},
       "output_type": "pyout",
       "prompt_number": 25,
       "text": [
        "   level1       level2      \n",
        "      one  two   three  four\n",
        "a       0    1       5     6\n",
        "b       2    3     NaN   NaN\n",
        "c       4    5       7     8"
       ]
      }
     ],
     "prompt_number": 25
    },
    {
     "cell_type": "heading",
     "level": 2,
     "metadata": {},
     "source": [
      "Reshaping: stack unstack"
     ]
    },
    {
     "cell_type": "code",
     "collapsed": false,
     "input": [
      "data = pd.DataFrame(np.arange(6).reshape((2, 3)),\n",
      "        index=pd.Index(['Ohio', 'Colorado'], name='state'),\n",
      "        columns=pd.Index(['one', 'two', 'three'], name='number'))\n"
     ],
     "language": "python",
     "metadata": {},
     "outputs": [],
     "prompt_number": 27
    },
    {
     "cell_type": "code",
     "collapsed": false,
     "input": [
      "data"
     ],
     "language": "python",
     "metadata": {},
     "outputs": [
      {
       "metadata": {},
       "output_type": "pyout",
       "prompt_number": 28,
       "text": [
        "number    one  two  three\n",
        "state                    \n",
        "Ohio        0    1      2\n",
        "Colorado    3    4      5"
       ]
      }
     ],
     "prompt_number": 28
    },
    {
     "cell_type": "code",
     "collapsed": false,
     "input": [
      "result = data.stack()"
     ],
     "language": "python",
     "metadata": {},
     "outputs": [],
     "prompt_number": 30
    },
    {
     "cell_type": "code",
     "collapsed": false,
     "input": [
      "result"
     ],
     "language": "python",
     "metadata": {},
     "outputs": [
      {
       "metadata": {},
       "output_type": "pyout",
       "prompt_number": 31,
       "text": [
        "state     number\n",
        "Ohio      one       0\n",
        "          two       1\n",
        "          three     2\n",
        "Colorado  one       3\n",
        "          two       4\n",
        "          three     5\n",
        "dtype: int64"
       ]
      }
     ],
     "prompt_number": 31
    },
    {
     "cell_type": "code",
     "collapsed": false,
     "input": [
      "result.unstack(0)"
     ],
     "language": "python",
     "metadata": {},
     "outputs": [
      {
       "metadata": {},
       "output_type": "pyout",
       "prompt_number": 32,
       "text": [
        "state   Ohio  Colorado\n",
        "number                \n",
        "one        0         3\n",
        "two        1         4\n",
        "three      2         5"
       ]
      }
     ],
     "prompt_number": 32
    },
    {
     "cell_type": "code",
     "collapsed": false,
     "input": [
      "result.unstack('number')"
     ],
     "language": "python",
     "metadata": {},
     "outputs": [
      {
       "metadata": {},
       "output_type": "pyout",
       "prompt_number": 36,
       "text": [
        "number    one  two  three\n",
        "state                    \n",
        "Ohio        0    1      2\n",
        "Colorado    3    4      5"
       ]
      }
     ],
     "prompt_number": 36
    },
    {
     "cell_type": "heading",
     "level": 2,
     "metadata": {},
     "source": [
      "Transforming Data Using a Function or Mapping"
     ]
    },
    {
     "cell_type": "code",
     "collapsed": false,
     "input": [
      "data = pd.DataFrame({'food': ['bacon', 'pulled pork', 'bacon', 'Pastrami',\n",
      "        'corned beef', 'Bacon', 'pastrami', 'honey ham',\n",
      "        'nova lox'],\n",
      "        'ounces': [4, 3, 12, 6, 7.5, 8, 3, 5, 6]})"
     ],
     "language": "python",
     "metadata": {},
     "outputs": [],
     "prompt_number": 37
    },
    {
     "cell_type": "code",
     "collapsed": false,
     "input": [
      "data"
     ],
     "language": "python",
     "metadata": {},
     "outputs": [
      {
       "metadata": {},
       "output_type": "pyout",
       "prompt_number": 38,
       "text": [
        "          food  ounces\n",
        "0        bacon     4.0\n",
        "1  pulled pork     3.0\n",
        "2        bacon    12.0\n",
        "3     Pastrami     6.0\n",
        "4  corned beef     7.5\n",
        "5        Bacon     8.0\n",
        "6     pastrami     3.0\n",
        "7    honey ham     5.0\n",
        "8     nova lox     6.0"
       ]
      }
     ],
     "prompt_number": 38
    },
    {
     "cell_type": "code",
     "collapsed": false,
     "input": [
      "meat_to_animal = {\n",
      " 'bacon': 'pig',\n",
      " 'pulled pork': 'pig',\n",
      " 'pastrami': 'cow',\n",
      " 'corned beef': 'cow',\n",
      " 'honey ham': 'pig',\n",
      " 'nova lox': 'salmon'\n",
      "}\n"
     ],
     "language": "python",
     "metadata": {},
     "outputs": [],
     "prompt_number": 39
    },
    {
     "cell_type": "code",
     "collapsed": false,
     "input": [
      "data['animal'] = data['food'].map(str.lower).map(meat_to_animal)"
     ],
     "language": "python",
     "metadata": {},
     "outputs": [],
     "prompt_number": 40
    },
    {
     "cell_type": "code",
     "collapsed": false,
     "input": [
      "data"
     ],
     "language": "python",
     "metadata": {},
     "outputs": [
      {
       "metadata": {},
       "output_type": "pyout",
       "prompt_number": 41,
       "text": [
        "          food  ounces  animal\n",
        "0        bacon     4.0     pig\n",
        "1  pulled pork     3.0     pig\n",
        "2        bacon    12.0     pig\n",
        "3     Pastrami     6.0     cow\n",
        "4  corned beef     7.5     cow\n",
        "5        Bacon     8.0     pig\n",
        "6     pastrami     3.0     cow\n",
        "7    honey ham     5.0     pig\n",
        "8     nova lox     6.0  salmon"
       ]
      }
     ],
     "prompt_number": 41
    },
    {
     "cell_type": "code",
     "collapsed": false,
     "input": [
      "data['food'] = data['food'].map(lambda x: meat_to_animal[x.lower()])\n"
     ],
     "language": "python",
     "metadata": {},
     "outputs": [],
     "prompt_number": 44
    },
    {
     "cell_type": "code",
     "collapsed": false,
     "input": [
      "data"
     ],
     "language": "python",
     "metadata": {},
     "outputs": [
      {
       "metadata": {},
       "output_type": "pyout",
       "prompt_number": 45,
       "text": [
        "     food  ounces  animal\n",
        "0     pig     4.0     pig\n",
        "1     pig     3.0     pig\n",
        "2     pig    12.0     pig\n",
        "3     cow     6.0     cow\n",
        "4     cow     7.5     cow\n",
        "5     pig     8.0     pig\n",
        "6     cow     3.0     cow\n",
        "7     pig     5.0     pig\n",
        "8  salmon     6.0  salmon"
       ]
      }
     ],
     "prompt_number": 45
    },
    {
     "cell_type": "heading",
     "level": 2,
     "metadata": {},
     "source": [
      "Indicator dummy variables"
     ]
    },
    {
     "cell_type": "code",
     "collapsed": false,
     "input": [
      "df = pd.DataFrame({'key': ['b', 'b', 'a', 'c', 'a', 'b'],\n",
      "     'data1': range(6)})\n"
     ],
     "language": "python",
     "metadata": {},
     "outputs": [],
     "prompt_number": 47
    },
    {
     "cell_type": "code",
     "collapsed": false,
     "input": [
      "df"
     ],
     "language": "python",
     "metadata": {},
     "outputs": [
      {
       "metadata": {},
       "output_type": "pyout",
       "prompt_number": 48,
       "text": [
        "   data1 key\n",
        "0      0   b\n",
        "1      1   b\n",
        "2      2   a\n",
        "3      3   c\n",
        "4      4   a\n",
        "5      5   b"
       ]
      }
     ],
     "prompt_number": 48
    },
    {
     "cell_type": "code",
     "collapsed": false,
     "input": [
      "pd.get_dummies(df['key'])"
     ],
     "language": "python",
     "metadata": {},
     "outputs": [
      {
       "metadata": {},
       "output_type": "pyout",
       "prompt_number": 49,
       "text": [
        "   a  b  c\n",
        "0  0  1  0\n",
        "1  0  1  0\n",
        "2  1  0  0\n",
        "3  0  0  1\n",
        "4  1  0  0\n",
        "5  0  1  0"
       ]
      }
     ],
     "prompt_number": 49
    },
    {
     "cell_type": "code",
     "collapsed": false,
     "input": [
      "pd.get_dummies(df['data1'])"
     ],
     "language": "python",
     "metadata": {},
     "outputs": [
      {
       "metadata": {},
       "output_type": "pyout",
       "prompt_number": 50,
       "text": [
        "   0  1  2  3  4  5\n",
        "0  1  0  0  0  0  0\n",
        "1  0  1  0  0  0  0\n",
        "2  0  0  1  0  0  0\n",
        "3  0  0  0  1  0  0\n",
        "4  0  0  0  0  1  0\n",
        "5  0  0  0  0  0  1"
       ]
      }
     ],
     "prompt_number": 50
    },
    {
     "cell_type": "code",
     "collapsed": false,
     "input": [],
     "language": "python",
     "metadata": {},
     "outputs": []
    }
   ],
   "metadata": {}
  }
 ]
}